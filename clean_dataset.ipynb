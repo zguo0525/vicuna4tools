{
 "cells": [
  {
   "cell_type": "code",
   "execution_count": 1,
   "id": "5cf854a3-b67e-4961-91cc-083c0b7e2912",
   "metadata": {},
   "outputs": [],
   "source": [
    "import json\n",
    "import os\n",
    "\n",
    "def get_questions(question_file):\n",
    " \n",
    "    # Load questions file\n",
    "    question_jsons = []\n",
    "    with open(question_file, \"r\") as ques_file:\n",
    "        for line in ques_file:\n",
    "            question_jsons.append(line)\n",
    "\n",
    "    return question_jsons"
   ]
  },
  {
   "cell_type": "code",
   "execution_count": 2,
   "id": "ca50625f-4a7b-4a30-ac35-41e427f58c3e",
   "metadata": {},
   "outputs": [],
   "source": [
    "directory_path = \"data/apibench/\"\n",
    "# Get all filenames in the directory\n",
    "filenames = [filename for filename in os.listdir(directory_path) if filename.endswith(\".json\") and os.path.isfile(os.path.join(directory_path, filename))]"
   ]
  },
  {
   "cell_type": "code",
   "execution_count": 3,
   "id": "9ea60a07-362c-48b9-8efc-b2955a502775",
   "metadata": {},
   "outputs": [],
   "source": [
    "for filename in filenames:\n",
    "    \n",
    "    questions_json = get_questions(directory_path + filename)\n",
    "    modified_data = []\n",
    "    \n",
    "    # Iterate through the questions_json list\n",
    "    for question in questions_json:\n",
    "        data = {}\n",
    "        string_data = json.loads(question)['code']\n",
    "        #print('------------------------------------------------------------------------------------------------------------------------------------')\n",
    "        # Find the starting and ending indices of the instruction and output\n",
    "        instruction_start = string_data.find(\"###Instruction: \") + len(\"###Instruction: \")\n",
    "        # if not find Input\n",
    "        if string_data.find(\"###Iutput: \") == -1:\n",
    "            instruction_end = string_data.find(\"###Output: \")\n",
    "            output_start = instruction_end + len(\"###Output: \")\n",
    "            input_ = ''\n",
    "        # if find Input\n",
    "        else:\n",
    "            print('find Input')\n",
    "            instruction_end = string_data.find(\"###Iutput: \")\n",
    "            input_start = instruction_end + len(\"###Iutput: \")\n",
    "            input_end = string_data.find(\"###Output: \")\n",
    "            input_ = string_data[input_start:input_end].strip()\n",
    "        \n",
    "        instruction = string_data[instruction_start:instruction_end].strip()\n",
    "        output = string_data[output_start:].strip()\n",
    "    \n",
    "        data['instruction'] = instruction\n",
    "        data['input'] = input_\n",
    "        data['output'] = output\n",
    "        # Append the modified data to the list\n",
    "        modified_data.append(data)\n",
    "    \n",
    "    # Save the modified data list as JSON\n",
    "    filename = filename[:-5] + '_clean.json'\n",
    "    \n",
    "    with open(filename, \"w\") as json_file:\n",
    "        json.dump(modified_data, json_file)"
   ]
  },
  {
   "cell_type": "code",
   "execution_count": null,
   "id": "30f7765d-05ec-4739-91de-984f9ea65c5c",
   "metadata": {},
   "outputs": [],
   "source": []
  }
 ],
 "metadata": {
  "kernelspec": {
   "display_name": "Python 3 (ipykernel)",
   "language": "python",
   "name": "python3"
  },
  "language_info": {
   "codemirror_mode": {
    "name": "ipython",
    "version": 3
   },
   "file_extension": ".py",
   "mimetype": "text/x-python",
   "name": "python",
   "nbconvert_exporter": "python",
   "pygments_lexer": "ipython3",
   "version": "3.10.6"
  }
 },
 "nbformat": 4,
 "nbformat_minor": 5
}
